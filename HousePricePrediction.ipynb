{
 "cells": [
  {
   "cell_type": "code",
   "id": "6d9940fa72427b6a",
   "metadata": {},
   "source": [
    "import numpy as np\n",
    "import pandas as pd\n",
    "from sklearn.datasets import fetch_california_housing\n",
    "from sklearn.model_selection import train_test_split\n",
    "from sklearn.preprocessing import StandardScaler\n",
    "from sklearn.ensemble import RandomForestRegressor\n",
    "from sklearn.metrics import mean_squared_error, mean_absolute_error, r2_score\n",
    "import warnings\n",
    "warnings.filterwarnings('ignore')"
   ],
   "outputs": [],
   "execution_count": null
  },
  {
   "metadata": {},
   "cell_type": "code",
   "outputs": [],
   "execution_count": null,
   "source": [
    "\n",
    "def load_and_prepare_data():\n",
    "    # Load California Housing dataset\n",
    "    housing = fetch_california_housing()\n",
    "    data = pd.DataFrame(housing.data, columns=housing.feature_names)\n",
    "    data['PRICE'] = housing.target\n",
    "    \n",
    "    # Split features and target\n",
    "    X = data.drop('PRICE', axis=1)\n",
    "    y = data['PRICE']\n",
    "    \n",
    "    # Split into training and testing sets\n",
    "    X_train, X_test, y_train, y_test = train_test_split(\n",
    "        X, y, test_size=0.2, random_state=42\n",
    "    )\n",
    "    \n",
    "    # Scale the features\n",
    "    scaler = StandardScaler()\n",
    "    X_train_scaled = scaler.fit_transform(X_train)\n",
    "    X_test_scaled = scaler.transform(X_test)\n",
    "    \n",
    "    return X_train_scaled, X_test_scaled, y_train, y_test, housing.feature_names\n",
    "\n",
    "def train_model(X_train, y_train):\n",
    "    # Initialize and train Random Forest model\n",
    "    model = RandomForestRegressor(\n",
    "        n_estimators=100,\n",
    "        max_depth=10,\n",
    "        random_state=42\n",
    "    )\n",
    "    model.fit(X_train, y_train)\n",
    "    return model\n",
    "\n",
    "def evaluate_model(model, X_test, y_test):\n",
    "    # Make predictions\n",
    "    y_pred = model.predict(X_test)\n",
    "    \n",
    "    # Calculate metrics\n",
    "    rmse = np.sqrt(mean_squared_error(y_test, y_pred))\n",
    "    mae = mean_absolute_error(y_test, y_pred)\n",
    "    r2 = r2_score(y_test, y_pred)\n",
    "    \n",
    "    return {\n",
    "        'RMSE': rmse,\n",
    "        'MAE': mae,\n",
    "        'R2 Score': r2\n",
    "    }\n",
    "\n",
    "def print_feature_importance(model, feature_names):\n",
    "    # Get feature importance\n",
    "    importances = model.feature_importances_\n",
    "    feature_imp = pd.Series(importances, index=feature_names).sort_values(ascending=False)\n",
    "    \n",
    "    print(\"\\nFeature Importance:\")\n",
    "    for feature, importance in feature_imp.items():\n",
    "        print(f\"{feature}: {importance:.4f}\")\n",
    "\n",
    "def main():\n",
    "    # Load and prepare data\n",
    "    print(\"Loading and preparing data...\")\n",
    "    X_train, X_test, y_train, y_test, feature_names = load_and_prepare_data()\n",
    "    \n",
    "    # Train model\n",
    "    print(\"Training model...\")\n",
    "    model = train_model(X_train, y_train)\n",
    "    \n",
    "    # Evaluate model\n",
    "    print(\"Evaluating model...\")\n",
    "    metrics = evaluate_model(model, X_test, y_test)\n",
    "    \n",
    "    # Print results\n",
    "    print(\"\\nModel Performance Metrics:\")\n",
    "    for metric, value in metrics.items():\n",
    "        print(f\"{metric}: {value:.4f}\")\n",
    "        \n",
    "    # Print feature importance\n",
    "    print_feature_importance(model, feature_names)"
   ],
   "id": "4a198f80c298d343"
  },
  {
   "metadata": {
    "ExecuteTime": {
     "end_time": "2025-04-02T17:23:56.261072Z",
     "start_time": "2025-04-02T17:23:50.441109Z"
    }
   },
   "cell_type": "code",
   "outputs": [
    {
     "name": "stdout",
     "output_type": "stream",
     "text": [
      "Loading and preparing data...\n",
      "Training model...\n",
      "Evaluating model...\n",
      "\n",
      "Model Performance Metrics:\n",
      "RMSE: 0.5443\n",
      "MAE: 0.3663\n",
      "R2 Score: 0.7739\n",
      "\n",
      "Feature Importance:\n",
      "MedInc: 0.5938\n",
      "AveOccup: 0.1398\n",
      "Latitude: 0.0766\n",
      "Longitude: 0.0761\n",
      "HouseAge: 0.0479\n",
      "AveRooms: 0.0315\n",
      "Population: 0.0173\n",
      "AveBedrms: 0.0170\n"
     ]
    }
   ],
   "execution_count": 2,
   "source": [
    "if __name__ == \"__main__\":\n",
    "    main() "
   ],
   "id": "b4737fd12a9b15a1"
  }
 ],
 "metadata": {
  "kernelspec": {
   "display_name": "Python 3 (ipykernel)",
   "language": "python",
   "name": "python3"
  }
 },
 "nbformat": 4,
 "nbformat_minor": 5
}
